{
 "cells": [
  {
   "cell_type": "code",
   "execution_count": 1,
   "id": "b24f647d-5c45-4255-b2a6-0845afec171f",
   "metadata": {},
   "outputs": [],
   "source": [
    "import sys\n",
    "from torch import cuda, bfloat16\n",
    "import torch\n",
    "import transformers\n",
    "from transformers import AutoTokenizer\n",
    "from time import time\n",
    "from tqdm import tqdm\n",
    "import pandas as pd\n",
    "#import chromadb\n",
    "#from chromadb.config import Settings\n",
    "from langchain.llms import HuggingFacePipeline\n",
    "from langchain.document_loaders import PyPDFLoader\n",
    "from langchain.text_splitter import RecursiveCharacterTextSplitter\n",
    "from langchain.embeddings import HuggingFaceEmbeddings\n",
    "from langchain.chains import RetrievalQA\n",
    "from langchain.vectorstores import Chroma"
   ]
  },
  {
   "cell_type": "code",
   "execution_count": 2,
   "id": "838cdebb-65a9-47fa-b512-09c5b06c969f",
   "metadata": {},
   "outputs": [],
   "source": [
    "with open('manual_Quantitation_of_Mitral_Regurgitation.txt','r') as f:\n",
    "    data = f.readlines()"
   ]
  },
  {
   "cell_type": "code",
   "execution_count": 3,
   "id": "b48d3052-df13-40f8-9491-29bb0893f887",
   "metadata": {},
   "outputs": [],
   "source": [
    "text_splitter = RecursiveCharacterTextSplitter(\n",
    "    # Set a really small chunk size, just to show.\n",
    "    chunk_size=250,\n",
    "    chunk_overlap=50,\n",
    "    length_function=len,\n",
    "    is_separator_regex=False,\n",
    ")\n",
    "complete_data = text_splitter.create_documents(data)"
   ]
  },
  {
   "cell_type": "code",
   "execution_count": 4,
   "id": "e6043925-987a-4ca9-8e76-34a4c32a313c",
   "metadata": {},
   "outputs": [],
   "source": [
    "text_splitter = RecursiveCharacterTextSplitter(\n",
    "    separators=[\". \"],\n",
    "    keep_separator=False,\n",
    "    chunk_size=500,\n",
    "    chunk_overlap=50,\n",
    "    length_function=len,\n",
    "    is_separator_regex=False,\n",
    ")\n",
    "complete_data = text_splitter.create_documents(data)\n"
   ]
  },
  {
   "cell_type": "code",
   "execution_count": 5,
   "id": "68a41f8f-4b1a-4045-9479-e64979967be7",
   "metadata": {
    "scrolled": true
   },
   "outputs": [
    {
     "data": {
      "text/plain": [
       "[Document(page_content='Quantitation of Mitral Regurgitation'),\n",
       " Document(page_content='Significant mitral regurgitation (MR) is estimated to afflict >2 million Americans and is anticipated to increase in prevalence as the baby boomer population ages.1 Approximately 10% of people ≥75 years of age have significant MR,1 and these patients have decreased survival regardless of whether MR is caused by a primary leaflet abnormality2 or is secondary to left ventricular (LV) dysfunction.3–7'),\n",
       " Document(page_content='The primary clinical tool for evaluation of the mechanism and severity of MR is echocardiography; however, many patients referred to surgical centers for severe MR by echocardiography have only mild or moderate MR on quantitative evaluation.8 Because surgery is only indicated in patients with severe MR,9,10 it is imperative to quantify MR severity accurately'),\n",
       " Document(page_content='In 2003, the American Society of Echocardiography (ASE) and the European Association of Echocardiography (EAE) jointly published recommendations for quantification of valvular regurgitation.11 In 2010, the EAE published an updated guideline document.12 The present review aims to summarize those recommendations and to incorporate new data regarding the use of 3-dimensional (3D) echocardiographic parameters to determine MR severity'),\n",
       " Document(page_content='First, a theoretical framework for understanding the quantitative determinants of MR severity will be presented. Then, the practical application of various techniques for assessment of MR severity will be discussed, including their strengths and weaknesses. New evidence regarding the use of 3D echocardiography to quantify MR severity will be presented. As with the ASE and EAE guidelines, we will emphasize the importance of an integrative approach'),\n",
       " Document(page_content='Integration of multiple quantitative parameters, including newly available 3D parameters, is needed for the final determination of MR severity. Finally, the role of cine magnetic resonance imaging (CMR) and cardiac catheterization in quantitation of MR will be discussed.'),\n",
       " Document(page_content='Hemodynamic Determinants of MR'),\n",
       " Document(page_content='As described by Levine and Gaasch,13 the Gorlin hydraulic orifice equation can be rearranged to derive the hemodynamic determinants of regurgitant volume (RgV) in MR.'),\n",
       " Document(page_content='Accordingly, RgV in MR is determined by the anatomic regurgitant orifice area (ROA), discharge coefficient (Cd), square root of the systolic mean pressure gradient (MPG) between the LV and left atrium (LA), and duration of MR (T).'),\n",
       " Document(page_content='Proper evaluation of the severity of MR requires careful consideration of each component of this equation. Because ROA is a fundamental determinant of MR severity,14 its measurement or calculation is paramount. However, ROA is dynamic and load dependent,15 and there is an important interaction between load dependence of ROA and pathogenesis'),\n",
       " Document(page_content='When MR is caused by rheumatic heart disease or other postinflammatory conditions, ROA may be relatively fixed; however, in patients with functional MR (FMR) caused by LV dysfunction, ROA tends to decrease during midsystole16 and can vary significantly with loading conditions'),\n",
       " Document(page_content='In FMR, therapies that result in reverse LV remodeling, especially carvedilol or cardiac resynchronization, may decrease ROA in some patients.17–19 In some patients with mitral valve prolapse, acute afterload reduction may increase ROA and worsen MR severity.20'),\n",
       " Document(page_content='The constant Cd in the hydraulic orifice equation accounts for contraction of the flow stream as it passes through the anatomic orifice and energy loss, because some of the potential energy (pressure gradient) is not converted to kinetic energy (velocity). Cd is dependent on orifice geometry, flow, and fluid viscosity but is generally within the range of 0.80 to 0.85, which means that the effective ROA (EROA) is 15% to 20% smaller than the anatomic ROA'),\n",
       " Document(page_content='It is important to distinguish between techniques that measure anatomic versus effective ROA.21'),\n",
       " Document(page_content='Systolic MPG is a primary determinant of MR severity, but its effect on RgV is mitigated by 2 factors. First, hemodynamic changes tend to move the LV and LA pressures in the same direction such that the net effect on MPG is blunted. Second, the effect of MPG on RgV is a function of its square root, such that a 25% reduction in MPG translates to a 13% reduction in RgV. Nevertheless, it is prudent to consider extremes of blood pressure when one evaluates MR severity'),\n",
       " Document(page_content='Blood pressure should be measured at the time of echocardiography or other imaging tests and recorded on the report.11,12'),\n",
       " Document(page_content='Finally, the duration of MR may be very important, particularly in mitral valve prolapse, in which late systolic MR may lead to overestimation of MR severity by techniques that rely on single-frame measurements, such as jet area, vena contracta width (VCW), or proximal isovelocity surface area (PISA). Figure 1 shows an example of clinically significant overestimation of MR severity by echocardiography in this setting'),\n",
       " Document(page_content='The color Doppler MR jet is large, with prominent proximal flow convergence (arrow in Figure 1C) and a wide VCW. Continuous-wave (CW) Doppler shows that MR is limited to late systole. Frame-by-frame analysis of the color flow images showed no MR during the first 5 systolic frames, followed by 2 late systolic frames that showed the large MR jet. The patient was asymptomatic, had normal functional capacity, normal LA and LV size, and an unimpressive late systolic murmur'),\n",
       " Document(page_content='Topilsky et al22 have shown that this situation may result in a large EROA but small RgV. Therefore, it is prudent to consider the influence of MR duration, particularly when single-frame measurements of MR severity are used. Quantitation of RgV, in addition to EROA, may help resolve such discrepancies. As noted above, EROA is the product of anatomic ROA and the discharge coefficient, which are the first 2 components of Equation 1'),\n",
       " Document(page_content='Because the square root of MPG is a function of MR jet velocity according to the Bernoulli equation, the velocity time integral (VTI) of the MR jet is mathematically identical to the product of the square root of MPG and the duration of MR during systole.23 Therefore, Equation 1 can be rewritten23 as follows:'),\n",
       " Document(page_content='According to this equation, RgV can be measured by volumetric methods (3D echocardiography, CMR, biplane cineangiography) and EROA calculated from RgV divided by VTI (CW Doppler). Alternatively, EROA can be measured by PISA or 3D imaging and RgV calculated from EROA×VTI. Each method has advantages and disadvantages, but the ability to measure both EROA and RgV is helpful in determining MR severity.'),\n",
       " Document(page_content='Mitral Valve Anatomy'),\n",
       " Document(page_content='Careful evaluation of the mitral valve anatomy is an integral part of the assessment of MR severity. The mitral valve apparatus includes the leaflets, annulus, chordae, papillary muscles, and LV. It is rare to encounter severe MR when the mitral valve, annulus, and LV are anatomically normal. Evaluation of LA size and LV function provides clues to the severity and chronicity of MR'),\n",
       " Document(page_content='LV size and function are also important determinants of the necessity and timing of surgery.9,10 The measurement of LV volumes by 2-dimensional (2D) echocardiography is prone to underestimation caused by foreshortening of the apex, failure to align the imaging plane through the center of the LV cavity, and inability to see the endocardial borders'),\n",
       " Document(page_content='Recent recommendations from the EAE/ASE state that “3D TTE [transthoracic echocardiography] and TEE [transesophageal echocardiography] assessment of LV volumes and ejection fraction is recommended over the use of 2D echocardiography, as it has been clearly demonstrated to provide more accurate and reproducible measurements.”24 If endocardial borders are not clearly visualized, an ultrasound contrast agent should be used with 3D imaging to obtain accurate LV volumes.25,26 CMR is an excellent technique for assessment of LV volumes and should be used if echocardiography is technically difficult.\\n'),\n",
       " Document(page_content='Primary Versus Secondary (Functional) MR'),\n",
       " Document(page_content='Distinction should be made as to whether MR is primary (ie, caused by leaflet abnormality) or secondary to LV dilation and dysfunction (FMR)'),\n",
       " Document(page_content='The most common cause of primary MR is mitral valve prolapse.27 Other causes of primary MR include rheumatic heart disease, collagen vascular diseases, anorectic drug use, radiation injury, endocarditis, and congenital abnormalities other than mitral valve prolapse.27 The most common cause of FMR is ischemic cardiomyopathy.28 In FMR, the leaflets are normal, with restricted motion caused by tethering because of outward displacement of the LV walls and papillary muscles, with or without annular dilation.28–30 LV wall motion abnormalities may be focal, with preserved ejection fraction, or global, with various degrees of LV systolic dysfunction'),\n",
       " Document(page_content='LV geometry may be preserved or spherical. Annular dilation is often present and may be symmetrical or asymmetrical with greater involvement of the region that supports the medial scallop of the posterior leaflet.30 Echocardiographic determination of the mechanism of MR, either by transthoracic echocardiography or transesophageal echocardiography, is the reference standard for determining feasibility of mitral valve repair.9–12'),\n",
       " Document(page_content='It is generally easier to evaluate MR severity in primary MR, in part because marked pathology, such as flail leaflet, is obvious and the RgV and ROA tend to be much larger. It is more difficult to evaluate MR severity in FMR, because jet size tends to overestimate MR severity, and traditional measures of ROA, such as PISA and VCW, tend to underestimate MR severity, as will be discussed.'),\n",
       " Document(page_content='Color Doppler Imaging'),\n",
       " Document(page_content='Color Doppler is widely used to screen for the presence of MR. Although the term color flow imaging is often used, a color Doppler image does not depict flow at all but rather the spatial distribution of velocities within the imaging plane. The image can be profoundly affected by instrument settings and hemodynamic variables.31 In addition, color Doppler images of MR jets can appear significantly different between echocardiography instruments made by different manufacturers'),\n",
       " Document(page_content='Traditional methods for assessing MR severity by color Doppler imaging have included jet area, VCW, and calculation of EROA by the PISA method. More recently, 3D color imaging of the vena contracta area (VCA) has been used to directly measure ROA. All of these methods will be discussed.'),\n",
       " Document(page_content='Color Doppler Jet Area'),\n",
       " Document(page_content='Color Doppler imaging is excellent for excluding MR. A color Doppler imaging MR jet indicates the presence of MR, but in most cases is not sufficient for determination of MR severity. Generally, large jets that extend to the superior LA wall represent greater MR than small jets confined to the area just superior to the mitral leaflets'),\n",
       " Document(page_content='Early studies of color Doppler imaging in MR proposed measurement of jet area, either alone or indexed for LA area, as a means of grading MR severity.32 Subsequent studies showed that the correlation between jet area and MR severity is poor because of a variety of technical and hemodynamic limitations.11,12,31 Patients with acute severe MR in whom blood pressure is low and LA pressure is elevated may have a very small jet area, whereas hypertensive patients with mild MR directed centrally into the LA may have a large jet area'),\n",
       " Document(page_content='Color flow jets that are directed centrally into the LA generally appear larger because they entrain red blood cells on all sides of the jet. In contrast, eccentric jets that hug the LA wall cannot entrain blood on all sides and therefore are smaller than central jets of similar or lesser severity.33,34 Thus, jet area is very dependent on the mechanism of MR. In mitral valve prolapse or flail leaflet, jets are often very eccentric, and jet area tends to underestimate MR severity'),\n",
       " Document(page_content=\"Conversely, in FMR, jets are central and the orifice geometry may be slit-like, which creates a large spray effect, such as occurs when one places one's thumb over a water hose to create a high velocity jet. Because of these problems, both the ASE and EAE guidelines state that grading MR by “eyeballing” the color Doppler jet area should not be done\"),\n",
       " Document(page_content='However, a central jet that appears very small (area <4.0 cm2 or <10% of LA area) in multiple views without adhering to any adjacent walls is usually mild MR, especially when the mitral apparatus is structurally normal and the LA and LV are not enlarged.11,12 Conversely, a very large jet that penetrates into the pulmonary veins is likely to be severe MR, especially if associated with a flail leaflet, vegetations, or other significant leaflet pathology'),\n",
       " Document(page_content='Except for these 2 situations, the presence of a color Doppler MR jet should prompt the use of quantitative methods described subsequently.'),\n",
       " Document(page_content='Vena Contracta Width'),\n",
       " Document(page_content='The vena contracta is the smallest, highest-velocity region of a flow jet and is typically located at or just downstream from the regurgitant orifice.35 Its width should be measured in a long-axis imaging plane perpendicular to mitral leaflet closure (Figure 2A).36 If the regurgitant orifice is circular, VCW should directly reflect EROA. Unfortunately, the regurgitant orifice in MR often extends along the mitral coaptation line and is more elliptical than round (Figure 2B)'),\n",
       " Document(page_content='The 2-chamber view, which is oriented parallel to the line of leaflet coaptation, may show a wide vena contracta even in mild MR.36 In the setting of a fixed orifice, VCW is independent of flow rate and driving pressure.35 However, the ROA in MR is often dynamic, such that VCW may vary during systole or with changes in hemodynamic conditions.20'),\n",
       " Document(page_content='VCW has been shown to predict severity of MR by both transthoracic echocardiography and transesophageal echocardiography.37,38 According to guidelines published by the ASE and EAE, VCW <0.3 cm denotes mild MR and VCW ≥0.7 cm is specific for severe MR.11,12 Intermediate values of VCW (0.3–0.7 cm) do not mean that MR is moderate. In such cases, quantitative methods should always be used for confirmation'),\n",
       " Document(page_content='A particular strength of the VCW is that it works equally well for central and eccentric jets.37,38'),\n",
       " Document(page_content='There are significant limitations to VCW. It may be difficult to align the imaging plane perpendicularly to the vena contracta. Typically, a single frame is measured, which may lead to overestimation of MR severity in late systolic prolapse. It is not clear how to handle multiple MR jets by the vena contracta method. In FMR, the orifice is usually slit-like or elliptical, so VCW tends to underestimate MR severity.'),\n",
       " Document(page_content='PISA Method'),\n",
       " Document(page_content='The PISA method is based on the hydrodynamic principle that flow approaching a circular orifice forms concentric, hemispheric shells of increasing velocity and decreasing surface area just proximal to that orifice.39 In MR, color Doppler imaging is usually able to identify the region of flow convergence proximal to the ROA'),\n",
       " Document(page_content='The radius (r) of this hemisphere is then measured, and flow rate (mL/s) is calculated as the product of the surface area of the hemisphere (2πr2) and the aliasing velocity (Va; Figure 3). Assuming that the maximal PISA radius occurs at the same time as peak regurgitant velocity, the maximal EROA is derived as'),\n",
       " Document(page_content='where PkVreg is the peak velocity of the MR jet by CW Doppler. Because the PISA calculation provides an instantaneous peak flow rate, EROA by this approach is the maximal EROA and may be larger than EROA calculated by other methods. If one assumes that ROA is constant throughout systole (which is often not true), RgV can be calculated from Equation 3 as EROA multiplied by the VTI of the MR jet with CW Doppler.'),\n",
       " Document(page_content='Measurement of PISA by color Doppler imaging requires adjustment of the aliasing velocity such that a well-defined hemisphere is shown. This is done by shifting the baseline toward the direction of the MR jet, which works much better than simply lowering the aliasing velocity.40 Variance maps should be turned off'),\n",
       " Document(page_content='If the base of the hemisphere is not a flat surface (180°), then correction for wall constraint should be performed, multiplying by the ratio of the angle formed by the walls adjacent to the regurgitant orifice and 180° (Figure 3). This has been shown to improve the reliability of the measurement.41 Several clinical studies have validated PISA measurements of regurgitant flow rate and EROA.42,43'),\n",
       " Document(page_content='The limitations of PISA have been reviewed in detail.42,43 It is more accurate for central jets than for eccentric jets. In MR, the orifice shape is often elliptical rather than circular, and this can affect the accuracy of PISA calculations, which assume hemispheric flow convergence through a round orifice. Accordingly, PISA tends to underestimate EROA. It is usually easy to identify the aliasing line of the hemisphere; however, it can be difficult to judge the exact location of the orifice'),\n",
       " Document(page_content='Any error introduced is then squared. The dynamic nature of the orifice in MR can also lead to errors with the PISA formula.44 Furthermore, for determination of EROA, it is essential that the CW Doppler signal is well aligned with the regurgitant jet. Poor alignment with an eccentric jet will lead to an underestimation of velocity and an overestimation of EROA by PISA.'),\n",
       " Document(page_content='Volumetric Methods'),\n",
       " Document(page_content='Pulsed Doppler recordings of VTI can be combined with 2D measurements to derive flow rate and stroke volume (SV) at any valve annulus with the formula'),\n",
       " Document(page_content='where CSA is the cross-sectional area of the annulus and VTI is the velocity time integral of flow measured at the annulus by pulsed-wave spectral Doppler.45 In the absence of any valvular regurgitation, SV should be equal at different sites, typically the aortic and mitral annulus. In the presence of regurgitation of 1 valve, without any intracardiac shunt, the flow through the affected valve is larger than through other competent valves'),\n",
       " Document(page_content='For MR, RgV is the mitral annular SV minus the aortic annular SV.46,47 In MR, regurgitant fraction (RgF) is then derived as RgV divided by the forward SV through the regurgitant valve. Thus,'),\n",
       " Document(page_content='EROA can be calculated as RgV divided by the VTI of the MR jet recorded by CW Doppler. With this method, RgV by volumetric Doppler has been validated against RgV calculated by CMR.48'),\n",
       " Document(page_content='The most common errors encountered in determining these parameters are (1) failure to measure the valve annulus properly (error is squared in the formula), (2) failure to trace the modal velocity (brightest signal represents laminar flow) of the pulsed Doppler tracing, and (3) failure to position the sample volume correctly, at the level of the annulus.'),\n",
       " Document(page_content='In MR, LV SV can also be measured as end-diastolic volume minus end-systolic volume.49 Unfortunately, measurement of LV SV by echocardiography is generally underestimated because of foreshortening of the apex, failure to align with the true center of the LV cavity, and inability to trace the true endocardial border. Therefore, 3D assessment of LV SV, which has now been well validated and recommended by the ASE/EAE,24 can replace mitral annular SV for calculation of RgV and RgF in MR'),\n",
       " Document(page_content='RgV equals total LV SV by 3D echocardiography minus LV outflow tract SV by pulsed Doppler technique (Figure 4). 3D echocardiography could also be used to directly measure the LV outflow tract cross-sectional area, rather than calculating it by assuming circular geometry. Automated calculation of LV SV and LV outflow tract SV by 3D color Doppler imaging has been reported recently.50'),\n",
       " Document(page_content='Several studies have shown the validity and clinical utility of quantitative Doppler measurements of MR severity.20–22 Dujardin et al49 compared echocardiographic values for RgV, RgF, and EROA to angiographic grading in 180 consecutive patients with MR, almost evenly divided between primary MR and FMR. Optimal cutoff values were derived and serve as the basis for quantitative criteria of MR severity in the guidelines'),\n",
       " Document(page_content='Receiver operating curve analysis showed excellent discrimination for separation of 1 to 2+ MR from 3 to 4+ MR. There was difficulty separating 1+ from 2+ MR, for which overlap between values was substantial. Volumetric Doppler measurements are not accurate if the patient has both MR and more than mild aortic regurgitation. On the other hand, volumetric Doppler offers an advantage in the case of eccentric or multiple MR jets, for which PISA is less accurate'),\n",
       " Document(page_content='In addition, quantitative Doppler assesses MR severity over all of systole, whereas VCW or PISA is typically a single-frame measurement that can overestimate MR severity in mitral valve prolapse with only late systolic MR.'),\n",
       " Document(page_content='Direct Measurement of VCA by 3D Echocardiography'),\n",
       " Document(page_content=\"3D echocardiography can provide a detailed image of the complex structure of the mitral valve apparatus, either from the LA perspective (‘surgeon's view) or from the LV perspective.24 This facilitates both anatomic and functional interpretation; allows precise location of abnormal MV segments; and accurately demonstrates prolapse, flail leaflet, chordae rupture, clefts, vegetations, and other pathology.24,51–53 Morphological evaluation can be performed during live imaging, as well as by offline quantification with dedicated software\"),\n",
       " Document(page_content='3D imaging with color Doppler allows direct assessment of the VCA, which corresponds to the EROA. Using multiplanar imaging tools, orthogonal imaging planes (x and y) are oriented through the long axis of the MR jet, and the z-plane is adjusted perpendicularly through the narrowest cross-sectional area of the vena contracta in en face view (Figure 5). VCA can then be measured by manual planimetry of the color Doppler signal, without geometric assumptions of its shape'),\n",
       " Document(page_content='This method is especially useful when orifice shape is noncircular or when there are multiple MR jets. Limitations include technically difficult images, dynamic variation in EROA over the cardiac cycle, and image artifacts from severely calcified leaflets or annulus. It may also be difficult to orient the imaging planes if the anatomy is markedly distorted.24 Because of the large amount of data inherent in 3D imaging, temporal resolution (voxel rate) may be low'),\n",
       " Document(page_content='This can be improved by multiple-beat full-volume acquisition, which often results in stitching artifacts. Therefore, the size of the 3D image should be reduced to optimize voxel rate, while including all of the mitral apparatus to measure EROA and assess the presence of multiple MR jets. “Live” 3D color Doppler is not affected by stitching artifacts but has poor spatial and temporal resolution; however, technological advances now allow single-beat 3D imaging of ROA (Figure 6).'),\n",
       " Document(page_content='3D echocardiography has clearly demonstrated that the true proximal flow convergence region is usually more hemielliptical than hemispheric, especially in FMR.21,54–63 Consequently, the assumption of spherical flow convergence, inherent to PISA or VCW, is erroneous and leads to underestimation of MR severity.54–63 An excellent correlation has been shown between RgV calculated from 3D VCA and that calculated by CMR.61,62 Currently, 3D color Doppler quantification of the VCA must be performed manually'),\n",
       " Document(page_content='New software for fully automated identification and measurement of VCA was reported recently with instantaneous full-volume color Doppler with quantitative software on-cart.64 Extensive in vitro experiments established the accuracy of this method in measuring surface area, EROA, and RgV.64 Studies regarding in vivo validation of this automated technique for MR quantification are currently in progress.'),\n",
       " Document(page_content='3DE technology is evolving, and further improvements in image quality, temporal resolution, and automation of flow calculations are expected. At the time of guideline publication, there were insufficient data for the imaging guidelines to recommend 3D quantification of MR severity'),\n",
       " Document(page_content='However, there are now 6 studies comprising 396 patients in whom 3D imaging of VCA has been compared with other methods of MR quantitation, including magnetic resonance imaging.58–63 These studies are summarized in the Table. Interobserver and intraobserver agreement for measurement of VCA by 3D color Doppler was very good across all studies. In general, elliptical orifice geometry caused PISA to underestimate EROA by roughly 0.1 cm2 relative to 3D VCA, and this was more often seen in FMR'),\n",
       " Document(page_content='Strong correlations were seen for EROA and RgV when 3D VCA was compared with magnetic resonance imaging. Zeng et al63 reevaluated the optimal cutoff values for ROA in discriminating severe MR. The optimal value was 0.41 cm2 by 3D VCA, with a sensitivity and specificity for severe MR of 97% and 82%, respectively'),\n",
       " Document(page_content='This is almost identical to the guideline recommendations that are based on the comparison to angiographic grading by Dujardin et al.49 However, the optimal cutoff for severe MR was only 0.32 cm2 by PISA EROA, with a sensitivity and specificity of 94% and 85%, respectively'),\n",
       " Document(page_content='The bias for PISA to underestimate MR severity in FMR may explain in part the finding that lower thresholds for EROA are associated with worsened prognosis in FMR.3,65,66 Taken together, the studies listed in the Table strongly support 3D echocardiographic evaluation of MR severity'),\n",
       " Document(page_content='In addition, these studies support the previous finding of Dujardin et al49 that our ability to distinguish severe from nonsevere MR is good; our ability to distinguish mild from moderate MR is limited by substantial overlap.'),\n",
       " Document(page_content='There are limitations to 3D imaging of MR severity. Many centers do not have 3D capability because of expense and poor reimbursement. There are technical challenges to proper acquisition of the images and correct application of multiplanar reconstruction to orient the z-plane through the narrowest VCA. Although studies indicate that this technique works well in highly experienced expert centers, it has not become mainstream'),\n",
       " Document(page_content='Further technical development, especially automated plane alignment and measurement of VCA, are needed. In the meantime, the advancement of percutaneous valve therapies has spawned the development of multidisciplinary centers of excellence. These centers are expert in 3D evaluation of MR severity, and patients with MR of uncertain severity, or for whom repair or percutaneous therapies are considered, should be referred to centers of excellence.'),\n",
       " Document(page_content='Adjunctive Findings'),\n",
       " Document(page_content='CW Doppler'),\n",
       " Document(page_content='The density of the CW Doppler signal of the MR jet is a useful qualitative index of MR severity.11,12 A signal that is similar in density to that of antegrade flow suggests significant MR, whereas a faint signal or an incomplete envelope is typical of mild MR'),\n",
       " Document(page_content='This can be quantified by automated measurement of the amplitude of the Doppler signal.67 When performed with a 3D matrix array probe, amplitude mapping can provide accurate measures of RgV and EROA.68 Unfortunately, amplitude mapping of the MR jet signal is not widely available for clinical use.'),\n",
       " Document(page_content='In most patients, peak velocity of the MR jet is approximately 5 m/s because of the high systolic pressure gradient between the LV and LA.69 An unusually low velocity (<4 m/s) may indicate hemodynamic compromise caused by a high LA pressure and low LV systolic pressure'),\n",
       " Document(page_content='A truncated, triangular jet contour with early peaking of the maximal velocity indicates elevated LA pressure and a prominent v wave in the LA.11,12 These findings presume that the interrogating ultrasound beam is adequately aligned with the MR jet, which can be difficult to achieve in extremely eccentric jets.'),\n",
       " Document(page_content='CW Doppler is also used to assess pulmonary artery systolic pressure from the tricuspid regurgitation jet velocity.11,12 The presence of pulmonary hypertension provides another indirect clue as to MR severity and compensation to the volume overload. Doppler evidence of pulmonary hypertension may also be an indication for surgery in patients with severe asymptomatic primary MR.9,10'),\n",
       " Document(page_content='Pulsed Doppler'),\n",
       " Document(page_content='Pulsed Doppler tracings of mitral inflow at the mitral leaflet tips are commonly used to evaluate LV diastolic function. Patients with severe MR usually exhibit dominant early filling (E velocity ≥1.5 m/s), because forward flow across the mitral valve during diastole includes the forward SV and RgV.70 Conversely, an A-wave–dominant mitral inflow pattern (impaired relaxation) virtually excludes severe MR.11,12'),\n",
       " Document(page_content='Pulmonary Vein Flow'),\n",
       " Document(page_content='Normal pulmonary venous flow exhibits higher velocity during ventricular systole than during ventricular diastole. As MR increases in severity, systolic velocity in the pulmonary veins decreases and even reverses in severe MR.71 Increased LA pressure of any cause can result in blunted pulmonary venous systolic flow. In FMR, systolic blunting is often caused by the underlying LV dysfunction and is less reliable for grading MR severity'),\n",
       " Document(page_content='It is not clear how accurate pulmonary vein flow patterns are in atrial fibrillation, which often accompanies significant MR. Therefore, the pulmonary venous flow pattern should be used adjunctively with other parameters. Nevertheless, systolic flow reversal in >1 pulmonary vein is a specific sign of severe MR.11,12'),\n",
       " Document(page_content='Clinical Integration'),\n",
       " Document(page_content='Biner et al72 recently reported poor agreement among expert observers for grading MR severity based on jet area, VCW, and PISA. This highlights the need for development of more accurate, reproducible, and perhaps automated analysis. It also underscores the potential advantages 3D methods may add to our assessment of MR, because they appear to be less prone to observer variability and to be independent of orifice geometry'),\n",
       " Document(page_content='In evaluating the severity of MR, both the ASE and EAE state that it is important to integrate multiple parameters of MR severity.11,12 This helps minimize the effects of technical or measurement errors inherent to each method, as discussed previously'),\n",
       " Document(page_content='An MR index has been proposed that weighs 6 different indicators of MR severity with a score of 0 to 3 for jet penetration into the LA, PISA radius, CW jet intensity, pulmonary artery pressure, pulmonary venous flow pattern, and LA size.73 A score of ≤1.7 reliably separated mild MR from severe MR; however, considerable overlap was observed between moderate and severe MR, and the index was not validated against an independent reference standard.'),\n",
       " Document(page_content='Defining Severe MR'),\n",
       " Document(page_content='Despite the obvious need to define MR severity, there is some disparity among the guidelines as to what constitutes severe MR. All the guidelines agree that EROA ≥0.4 cm2, RgV ≥60 mL, and RgF ≥50% constitute severe MR.9–12 As noted previously, these numbers are derived from a study that calibrated echocardiographic data with biplane angiographic grading.49 In that study, these values had the optimal sensitivity and specificity for 4+ angiographic MR'),\n",
       " Document(page_content='However, the cutoff values for ≥3+ angiographic MR severity were EROA ≥0.3 cm2, RgV ≥45 mL, and RgF ≥40%. Notably, the ACC/AHA guidelines consider angiographic grades 3 and 4 to be severe MR. The 2 published randomized trials in MR, Acorn and EVEREST II (Study of the Evalve Cardiovascular Repair System–Endovascular Valve Edge-to-Edge Repair Study),74–76 used ≥3+ as entry criteria'),\n",
       " Document(page_content='On the other hand, the ongoing Cardiothoracic Surgery Network trials originally used EROA ≥0.4 cm2 for the severe MR trial77 and 0.2 to 0.39 cm2 for the moderate MR trial.78 These entry criteria were subsequently modified to allow lower values for EROA if accompanied by other echocardiographic signs that indicated that MR severity was worse, such as RgV, VCW, elevated E-wave velocity, or pulmonary vein flow reversal. This takes into account the tendency of PISA to underestimate EROA in FMR'),\n",
       " Document(page_content='Figure 7 is a proposed algorithm to implement the integrated approach to distinguish severe from nonsevere MR. The first step is to determine whether MR is clearly either mild or severe on the basis of the ASE and EAE recommendations discussed previously.11,12 If not, quantitative methods are used in a stepwise and integrative approach to determine whether MR is severe or not'),\n",
       " Document(page_content='Because studies comparing quantitative echocardiography to independent reference standards have marked overlap between mild and moderate MR, these 2 categories are lumped together as nonsevere MR.'),\n",
       " Document(page_content='Importance of LV and LA Volumes'),\n",
       " Document(page_content='In primary MR, the volume load on the LV eventually causes LV dilation. Current guidelines recommend consideration of surgery even in asymptomatic patients with severe MR and LV end-systolic diameter >4.0 cm9 or >4.5 cm.10 Likewise, patients with LV ejection fraction ≤60% should be considered for surgery.9,10 In FMR, the relation between LV dilation and MR severity is more complicated because MR results from LV dysfunction but also may contribute to it'),\n",
       " Document(page_content='In either case, the ability to measure LV diameters and volumes is important both to determine the need for surgical or percutaneous intervention and to measure any reverse LV remodeling that may result from therapy'),\n",
       " Document(page_content='Because 3D echocardiography offers more accuracy and precision than 2D echocardiography in measurement of LV volumes and LV ejection fraction,79 it is now recommended.24,52 Echocardiographic measurements of global longitudinal strain may become useful in the evaluation of abnormal myocardial function in MR,80,81 which may be masked by chamber volume–based measurements, such as LV ejection fraction.'),\n",
       " Document(page_content='LA dilation is an expected consequence of severe MR. Accordingly, accurate measurement of LA volumes can be helpful in assessment of MR severity. A normal LA size generally excludes severe MR, except in acute MR'),\n",
       " Document(page_content='LA volumes are superior to LA diameters in evaluation of LA dilation and prediction of outcomes and atrial fibrillation.82 However, MR can also occur as a consequence of chronic LA dilation, particularly in chronic atrial fibrillation.83 Therefore, a dilated LA does not necessarily imply severe MR.'),\n",
       " Document(page_content='Role of Exercise Testing'),\n",
       " Document(page_content='EAE guidelines emphasize the potential value of exercise echocardiography in the evaluation of patients with both primary MR and ischemic FMR.12 Many patients with primary MR are asymptomatic but sedentary or have equivocal symptoms. Exercise may unmask the presence of symptoms and establish functional capacity. Exercise echocardiography is also useful in the evaluation of exercise-related changes in LV systolic function, ROA, and pulmonary artery pressure'),\n",
       " Document(page_content='Failure of LV ejection fraction to increase or absence of contractile reserve with exercise predicts worse postoperative LV function in primary MR.84 Changes in EROA during exercise are not related to resting MR severity85; however, increases in EROA (≥13 mm2) during exercise in FMR have been shown to be associated with symptom status and a worsened prognosis.66,86 Finally, increased pulmonary artery pressure during exercise (≥60 mm Hg) is considered a Class IIa indication for surgery in asymptomatic severe MR.9,10\\n'),\n",
       " Document(page_content='Role of CMR'),\n",
       " Document(page_content='CMR offers an excellent method for quantifying MR severity.87–89 Hundley et al87 validated CMR calculation of RgV and RgF against cardiac catheterization performed the same day. The method involves calculation of LV end-diastolic and end-systolic volumes from a series of short-axis slices from base to apex. Forward SV is calculated from phase-contrast velocity encoding from the ascending aorta just distal to the sinotubular ridge'),\n",
       " Document(page_content='Forward SV can also be calculated from right ventricular stroke volume or pulmonary artery velocity encoding. Using steady state free-precession imaging, the MR jet itself appears as a flow void. Recent studies have shown that a short-axis view oriented through the mitral leaflets can depict ROA directly.90,91 Therefore, CMR offers the potential to directly quantify RgV, RgF, and ROA in patients with MR'),\n",
       " Document(page_content='Because of its accuracy and precision in measuring LV volumes, CMR is useful for evaluation of LV remodeling in MR.92 Finally, CMR can identify the presence of scar or fibrosis using delayed hyperenhancement of gadolinium contrast agents, a finding that may be particular relevant in FMR.93,94'),\n",
       " Document(page_content='Limitations of CMR include cardiac arrhythmias that preclude adequate gating, pacemakers or implantable cardioverter-defibrillators, and claustrophobia. Direct measurement of ROA by CMR may be limited by slice thickness (typically 5 mm) and cardiac translation, which may render it difficult to align the image precisely with the narrowest part of the VCA. CMR should be used when echocardiography is technically difficult or equivocal.'),\n",
       " Document(page_content='Cardiac Catheterization'),\n",
       " Document(page_content='In most patients, clinical evaluation and echocardiography are sufficient to determine MR severity; however, cardiac catheterization is still required in many circumstances'),\n",
       " Document(page_content='Coronary angiography is recommended in patients with indications for surgery and risk factors for coronary artery disease.9 LV angiography and hemodynamic measurements are recommended when there are discrepancies between clinical findings and noninvasive testing, or if echocardiography is equivocal and CMR cannot be performed.9 It is important to recognize that there can be divergence between MR severity and its hemodynamic consequences'),\n",
       " Document(page_content='For example, chronic severe MR can be well compensated with a normal or only slightly elevated LA pressure. Conversely, nonsevere MR that occurs acutely or in the setting of a noncompliant LA can result in high LA pressures with a prominent v wave'),\n",
       " Document(page_content='Careful attention should be paid to obtain high-quality hemodynamic measurements.95 If a pulmonary artery wedge pressure is measured instead of direct LA pressure, a large-bore end-hole catheter should be used, because Swan-Ganz catheters are prone to overestimate LA pressure because of damping. A large-bore catheter will also facilitate accurate measurements of pulmonary artery pressure'),\n",
       " Document(page_content='Cardiac output measures are best performed by the Fick method; thermodilution may be inaccurate at low flow states or in the presence of significant tricuspid regurgitation.96 LV angiography should ideally be performed in a biplane manner with calibration to measure LV volumes. RgV is calculated as the difference between forward SV (Fick) and total LV (angiography) SV'),\n",
       " Document(page_content='Angiographic MR grading may be inaccurate if the catheter is entrapped in the chordae tendineae, if insufficient contrast is used to opacify the LV and LA, or in the presence of arrhythmias. However, a high-quality angiogram, along with quantitation of RgV and RgF, may be very useful in resolving discrepancies or uncertainties regarding quantitation of MR severity in selected patients.'),\n",
       " Document(page_content='Summary'),\n",
       " Document(page_content='Echocardiographic evaluation of the severity of MR is complex, and all methods have inherent strengths and weaknesses. It is important to carefully evaluate valve morphology and size and function of the LA and LV. Simple “eyeball” grading of MR color flow jets is prone to error and should be discouraged. Quantitative measurements, such as VCW, RgV, and ROA, are valuable and should be used more often than they are used in current clinical practice'),\n",
       " Document(page_content='3D echocardiographic measurement of VCA and RgV is superior to 2D methods, particularly in noncircular orifice geometry and FMR, and has the potential to improve our assessment of MR severity. Integration of the various echocardiographic measures of MR severity by use of a systematic integrated approach should improve accuracy and variability.')]"
      ]
     },
     "execution_count": 5,
     "metadata": {},
     "output_type": "execute_result"
    }
   ],
   "source": [
    "complete_data"
   ]
  },
  {
   "cell_type": "code",
   "execution_count": 6,
   "id": "5f1d7a4e-3463-43f4-b7c2-567a83beefb8",
   "metadata": {},
   "outputs": [
    {
     "name": "stderr",
     "output_type": "stream",
     "text": [
      "/usr/local/lib/python3.9/dist-packages/transformers/tokenization_utils_base.py:1601: FutureWarning: `clean_up_tokenization_spaces` was not set. It will be set to `True` by default. This behavior will be depracted in transformers v4.45, and will be then set to `False` by default. For more details check this issue: https://github.com/huggingface/transformers/issues/31884\n",
      "  warnings.warn(\n"
     ]
    },
    {
     "name": "stdout",
     "output_type": "stream",
     "text": [
      "Model's maximum sequence length: 256\n"
     ]
    },
    {
     "name": "stderr",
     "output_type": "stream",
     "text": [
      "100%|███████████████████████████████████████████████████████████████████████████████████████████████████| 126/126 [00:00<00:00, 7264.86it/s]\n"
     ]
    }
   ],
   "source": [
    "from sentence_transformers import SentenceTransformer\n",
    "\n",
    "# To get the value of the max sequence_length, we will query the underlying `SentenceTransformer` object used in the RecursiveCharacterTextSplitter\n",
    "print(f\"Model's maximum sequence length: {SentenceTransformer('sentence-transformers/all-MiniLM-L6-v2').max_seq_length}\")\n",
    "\n",
    "from transformers import AutoTokenizer\n",
    "\n",
    "tokenizer = AutoTokenizer.from_pretrained(\"sentence-transformers/all-MiniLM-L6-v2\")\n",
    "lengths = [len(tokenizer.encode(doc.page_content)) for doc in tqdm(complete_data)]"
   ]
  },
  {
   "cell_type": "code",
   "execution_count": 7,
   "id": "30c254a0-ee94-4fa7-88fd-b669e86b8173",
   "metadata": {},
   "outputs": [
    {
     "name": "stderr",
     "output_type": "stream",
     "text": [
      "/usr/local/lib/python3.9/dist-packages/langchain_core/_api/deprecation.py:139: LangChainDeprecationWarning: The class `HuggingFaceEmbeddings` was deprecated in LangChain 0.2.2 and will be removed in 0.3.0. An updated version of the class exists in the langchain-huggingface package and should be used instead. To use it run `pip install -U langchain-huggingface` and import as `from langchain_huggingface import HuggingFaceEmbeddings`.\n",
      "  warn_deprecated(\n"
     ]
    }
   ],
   "source": [
    "from langchain.vectorstores import FAISS\n",
    "from langchain_community.embeddings import HuggingFaceEmbeddings\n",
    "from langchain_community.vectorstores.utils import DistanceStrategy\n",
    "from langchain.vectorstores import FAISS\n",
    "from langchain_community.embeddings import HuggingFaceEmbeddings\n",
    "from langchain_community.vectorstores.utils import DistanceStrategy\n",
    "\n",
    "embedding_model = HuggingFaceEmbeddings(\n",
    "    model_name='sentence-transformers/all-MiniLM-L6-v2'\n",
    ")\n",
    "\n",
    "KNOWLEDGE_VECTOR_DATABASE = FAISS.from_documents(\n",
    "    complete_data, embedding_model\n",
    ")"
   ]
  },
  {
   "cell_type": "code",
   "execution_count": 8,
   "id": "7dce1a77-467d-4854-8e5f-db0e27816641",
   "metadata": {},
   "outputs": [],
   "source": [
    "# Embed a user query in the same space\n",
    "user_query = \"Tell me about Vena Contract Width\"\n",
    "query_vector = embedding_model.embed_query(user_query)"
   ]
  },
  {
   "cell_type": "code",
   "execution_count": 9,
   "id": "4ee21392-3203-4871-a109-821b3a93c76d",
   "metadata": {},
   "outputs": [
    {
     "name": "stdout",
     "output_type": "stream",
     "text": [
      "\n",
      "Starting retrieval for user_query='Tell me about Vena Contract Width'...\n",
      "Vena Contracta Width\n",
      "\n",
      "--------------------------------------------------\n",
      "The vena contracta is the smallest, highest-velocity region of a flow jet and is typically located at or just downstream from the regurgitant orifice.35 Its width should be measured in a long-axis imaging plane perpendicular to mitral leaflet closure (Figure 2A).36 If the regurgitant orifice is circular, VCW should directly reflect EROA. Unfortunately, the regurgitant orifice in MR often extends along the mitral coaptation line and is more elliptical than round (Figure 2B)\n",
      "\n",
      "--------------------------------------------------\n",
      "The 2-chamber view, which is oriented parallel to the line of leaflet coaptation, may show a wide vena contracta even in mild MR.36 In the setting of a fixed orifice, VCW is independent of flow rate and driving pressure.35 However, the ROA in MR is often dynamic, such that VCW may vary during systole or with changes in hemodynamic conditions.20\n",
      "\n",
      "--------------------------------------------------\n",
      "There are significant limitations to VCW. It may be difficult to align the imaging plane perpendicularly to the vena contracta. Typically, a single frame is measured, which may lead to overestimation of MR severity in late systolic prolapse. It is not clear how to handle multiple MR jets by the vena contracta method. In FMR, the orifice is usually slit-like or elliptical, so VCW tends to underestimate MR severity.\n",
      "\n",
      "--------------------------------------------------\n",
      "Traditional methods for assessing MR severity by color Doppler imaging have included jet area, VCW, and calculation of EROA by the PISA method. More recently, 3D color imaging of the vena contracta area (VCA) has been used to directly measure ROA. All of these methods will be discussed.\n",
      "\n",
      "--------------------------------------------------\n"
     ]
    }
   ],
   "source": [
    "print(f\"\\nStarting retrieval for {user_query=}...\")\n",
    "retrieved_docs = KNOWLEDGE_VECTOR_DATABASE.similarity_search(query=user_query, k=5)\n",
    "for i in retrieved_docs:\n",
    "    print(i.page_content+'\\n')\n",
    "    print('-'*50)"
   ]
  },
  {
   "cell_type": "code",
   "execution_count": 10,
   "id": "4f3e3eb4-3f62-4d28-8d21-5c56918f7948",
   "metadata": {},
   "outputs": [
    {
     "name": "stderr",
     "output_type": "stream",
     "text": [
      "`low_cpu_mem_usage` was None, now set to True since model is quantized.\n"
     ]
    },
    {
     "data": {
      "application/vnd.jupyter.widget-view+json": {
       "model_id": "8e399010e8b54a86adc2078482dd9145",
       "version_major": 2,
       "version_minor": 0
      },
      "text/plain": [
       "Loading checkpoint shards:   0%|          | 0/4 [00:00<?, ?it/s]"
      ]
     },
     "metadata": {},
     "output_type": "display_data"
    }
   ],
   "source": [
    "from transformers import pipeline\n",
    "import torch\n",
    "from transformers import AutoTokenizer, AutoModelForCausalLM, BitsAndBytesConfig\n",
    "\n",
    "READER_MODEL_NAME = \"meta-llama/Meta-Llama-3-8B-Instruct\"\n",
    "\n",
    "bnb_config = BitsAndBytesConfig(\n",
    "    load_in_4bit=True,\n",
    "    bnb_4bit_use_double_quant=True,\n",
    "    bnb_4bit_quant_type=\"nf4\",\n",
    "    bnb_4bit_compute_dtype=torch.bfloat16,\n",
    ")\n",
    "model = AutoModelForCausalLM.from_pretrained(READER_MODEL_NAME, quantization_config=bnb_config)\n",
    "tokenizer = AutoTokenizer.from_pretrained(READER_MODEL_NAME)\n",
    "\n",
    "READER_LLM = pipeline(\n",
    "    model=model,\n",
    "    tokenizer=tokenizer,\n",
    "    task=\"text-generation\",\n",
    "    do_sample=True,\n",
    "    temperature=0.2,\n",
    "    repetition_penalty=1.1,\n",
    "    return_full_text=False,\n",
    "    max_new_tokens=500,\n",
    ")"
   ]
  },
  {
   "cell_type": "code",
   "execution_count": 11,
   "id": "83557734-c9af-47af-adaf-8885609db77a",
   "metadata": {},
   "outputs": [
    {
     "name": "stdout",
     "output_type": "stream",
     "text": [
      "<|begin_of_text|><|start_header_id|>system<|end_header_id|>\n",
      "\n",
      "Using the information contained in the context,\n",
      "give a comprehensive answer to the question.\n",
      "Respond only to the question asked, response should be concise and relevant to the question.\n",
      "Provide the number of the source document when relevant.\n",
      "If the answer cannot be deduced from the context, do not give an answer.<|eot_id|><|start_header_id|>user<|end_header_id|>\n",
      "\n",
      "Context:\n",
      "{context}\n",
      "---\n",
      "Now here is the question you need to answer.\n",
      "\n",
      "Question: {question}<|eot_id|><|start_header_id|>assistant<|end_header_id|>\n",
      "\n",
      "\n"
     ]
    }
   ],
   "source": [
    "prompt_in_chat_format = [\n",
    "    {\n",
    "        \"role\": \"system\",\n",
    "        \"content\": \"\"\"Using the information contained in the context,\n",
    "give a comprehensive answer to the question.\n",
    "Respond only to the question asked, response should be concise and relevant to the question.\n",
    "Provide the number of the source document when relevant.\n",
    "If the answer cannot be deduced from the context, do not give an answer.\"\"\",\n",
    "    },\n",
    "    {\n",
    "        \"role\": \"user\",\n",
    "        \"content\": \"\"\"Context:\n",
    "{context}\n",
    "---\n",
    "Now here is the question you need to answer.\n",
    "\n",
    "Question: {question}\"\"\",\n",
    "    },\n",
    "]\n",
    "RAG_PROMPT_TEMPLATE = tokenizer.apply_chat_template(\n",
    "    prompt_in_chat_format, tokenize=False, add_generation_prompt=True\n",
    ")\n",
    "print(RAG_PROMPT_TEMPLATE)"
   ]
  },
  {
   "cell_type": "code",
   "execution_count": 12,
   "id": "d172985c-3461-4dd9-b74e-f784c1f7a5fd",
   "metadata": {},
   "outputs": [
    {
     "name": "stderr",
     "output_type": "stream",
     "text": [
      "Setting `pad_token_id` to `eos_token_id`:128001 for open-end generation.\n"
     ]
    },
    {
     "name": "stdout",
     "output_type": "stream",
     "text": [
      "Retrieved Documents\n",
      "Topilsky et al22 have shown that this situation may result in a large EROA but small RgV. Therefore, it is prudent to consider the influence of MR duration, particularly when single-frame measurements of MR severity are used. Quantitation of RgV, in addition to EROA, may help resolve such discrepancies. As noted above, EROA is the product of anatomic ROA and the discharge coefficient, which are the first 2 components of Equation 1\n",
      "\n",
      "--------------------------------------------------\n",
      "According to this equation, RgV can be measured by volumetric methods (3D echocardiography, CMR, biplane cineangiography) and EROA calculated from RgV divided by VTI (CW Doppler). Alternatively, EROA can be measured by PISA or 3D imaging and RgV calculated from EROA×VTI. Each method has advantages and disadvantages, but the ability to measure both EROA and RgV is helpful in determining MR severity.\n",
      "\n",
      "--------------------------------------------------\n",
      "Strong correlations were seen for EROA and RgV when 3D VCA was compared with magnetic resonance imaging. Zeng et al63 reevaluated the optimal cutoff values for ROA in discriminating severe MR. The optimal value was 0.41 cm2 by 3D VCA, with a sensitivity and specificity for severe MR of 97% and 82%, respectively\n",
      "\n",
      "--------------------------------------------------\n",
      "Despite the obvious need to define MR severity, there is some disparity among the guidelines as to what constitutes severe MR. All the guidelines agree that EROA ≥0.4 cm2, RgV ≥60 mL, and RgF ≥50% constitute severe MR.9–12 As noted previously, these numbers are derived from a study that calibrated echocardiographic data with biplane angiographic grading.49 In that study, these values had the optimal sensitivity and specificity for 4+ angiographic MR\n",
      "\n",
      "--------------------------------------------------\n",
      "CMR offers an excellent method for quantifying MR severity.87–89 Hundley et al87 validated CMR calculation of RgV and RgF against cardiac catheterization performed the same day. The method involves calculation of LV end-diastolic and end-systolic volumes from a series of short-axis slices from base to apex. Forward SV is calculated from phase-contrast velocity encoding from the ascending aorta just distal to the sinotubular ridge\n",
      "\n",
      "--------------------------------------------------\n",
      "FINAL ANSWER\n",
      "Based on the provided context, according to Document 3, severe MR can be defined as:\n",
      "\n",
      "* EROA ≥0.4 cm2\n",
      "* RgV ≥60 mL\n",
      "* RgF ≥50%\n",
      "\n",
      "These values are derived from a study that calibrated echocardiographic data with biplane angiographic grading and had the optimal sensitivity and specificity for 4+ angiographic MR.\n"
     ]
    }
   ],
   "source": [
    "question = \"how to quantify severe MR using EROA, RgV, RgF\"\n",
    "retrieved_docs = KNOWLEDGE_VECTOR_DATABASE.similarity_search(query=question, k=5)\n",
    "retrieved_docs_text = [doc.page_content for doc in retrieved_docs]  # We only need the text of the documents\n",
    "print('Retrieved Documents')\n",
    "for i in retrieved_docs_text:\n",
    "    print(i+'\\n')\n",
    "    print('-'*50)\n",
    "context = \"\\nExtracted documents:\\n\"\n",
    "context += \"\".join([f\"Document {str(i)}:::\\n\" + doc for i, doc in enumerate(retrieved_docs_text)])\n",
    "\n",
    "final_prompt = RAG_PROMPT_TEMPLATE.format(question=question, context=context)\n",
    "\n",
    "print('FINAL ANSWER')\n",
    "# Redact an answer\n",
    "answer = READER_LLM(final_prompt)[0][\"generated_text\"]\n",
    "print(answer)"
   ]
  },
  {
   "cell_type": "code",
   "execution_count": 20,
   "id": "9e9ae404-19db-432b-ac27-ab463b8f4a60",
   "metadata": {},
   "outputs": [
    {
     "name": "stderr",
     "output_type": "stream",
     "text": [
      "Setting `pad_token_id` to `eos_token_id`:128001 for open-end generation.\n"
     ]
    },
    {
     "name": "stdout",
     "output_type": "stream",
     "text": [
      "Retrieved Documents\n",
      "However, a central jet that appears very small (area <4.0 cm2 or <10% of LA area) in multiple views without adhering to any adjacent walls is usually mild MR, especially when the mitral apparatus is structurally normal and the LA and LV are not enlarged.11,12 Conversely, a very large jet that penetrates into the pulmonary veins is likely to be severe MR, especially if associated with a flail leaflet, vegetations, or other significant leaflet pathology\n",
      "\n",
      "--------------------------------------------------\n",
      "An MR index has been proposed that weighs 6 different indicators of MR severity with a score of 0 to 3 for jet penetration into the LA, PISA radius, CW jet intensity, pulmonary artery pressure, pulmonary venous flow pattern, and LA size.73 A score of ≤1.7 reliably separated mild MR from severe MR; however, considerable overlap was observed between moderate and severe MR, and the index was not validated against an independent reference standard.\n",
      "\n",
      "--------------------------------------------------\n",
      "In most patients, peak velocity of the MR jet is approximately 5 m/s because of the high systolic pressure gradient between the LV and LA.69 An unusually low velocity (<4 m/s) may indicate hemodynamic compromise caused by a high LA pressure and low LV systolic pressure\n",
      "\n",
      "--------------------------------------------------\n",
      "Color Doppler imaging is excellent for excluding MR. A color Doppler imaging MR jet indicates the presence of MR, but in most cases is not sufficient for determination of MR severity. Generally, large jets that extend to the superior LA wall represent greater MR than small jets confined to the area just superior to the mitral leaflets\n",
      "\n",
      "--------------------------------------------------\n",
      "Early studies of color Doppler imaging in MR proposed measurement of jet area, either alone or indexed for LA area, as a means of grading MR severity.32 Subsequent studies showed that the correlation between jet area and MR severity is poor because of a variety of technical and hemodynamic limitations.11,12,31 Patients with acute severe MR in whom blood pressure is low and LA pressure is elevated may have a very small jet area, whereas hypertensive patients with mild MR directed centrally into the LA may have a large jet area\n",
      "\n",
      "--------------------------------------------------\n",
      "FINAL ANSWER\n",
      "Based on the provided context, a very large jet that penetrates into the pulmonary veins is likely to meet severe MR criteria, especially if associated with a flail leaflet, vegetations, or other significant leaflet pathology (Source: Document 0). Additionally, a score of >1.7 using the MR index (Document 1) can also suggest severe MR.\n"
     ]
    }
   ],
   "source": [
    "question = \"MR jet meets severe criteria\"\n",
    "retrieved_docs = KNOWLEDGE_VECTOR_DATABASE.similarity_search(query=question, k=5)\n",
    "retrieved_docs_text = [doc.page_content for doc in retrieved_docs]  # We only need the text of the documents\n",
    "print('Retrieved Documents')\n",
    "for i in retrieved_docs_text:\n",
    "    print(i+'\\n')\n",
    "    print('-'*50)\n",
    "context = \"\\nExtracted documents:\\n\"\n",
    "context += \"\".join([f\"Document {str(i)}:::\\n\" + doc for i, doc in enumerate(retrieved_docs_text)])\n",
    "\n",
    "final_prompt = RAG_PROMPT_TEMPLATE.format(question=question, context=context)\n",
    "\n",
    "print('FINAL ANSWER')\n",
    "# Redact an answer\n",
    "answer = READER_LLM(final_prompt)[0][\"generated_text\"]\n",
    "print(answer)"
   ]
  },
  {
   "cell_type": "code",
   "execution_count": null,
   "id": "cc33bced-7991-48f1-b797-95e7da2b8d28",
   "metadata": {},
   "outputs": [],
   "source": []
  }
 ],
 "metadata": {
  "kernelspec": {
   "display_name": "Python 3 (ipykernel)",
   "language": "python",
   "name": "python3"
  },
  "language_info": {
   "codemirror_mode": {
    "name": "ipython",
    "version": 3
   },
   "file_extension": ".py",
   "mimetype": "text/x-python",
   "name": "python",
   "nbconvert_exporter": "python",
   "pygments_lexer": "ipython3",
   "version": "3.8.10"
  }
 },
 "nbformat": 4,
 "nbformat_minor": 5
}
